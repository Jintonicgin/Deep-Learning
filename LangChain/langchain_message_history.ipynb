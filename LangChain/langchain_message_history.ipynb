{
 "cells": [
  {
   "cell_type": "code",
   "execution_count": 1,
   "id": "a5ca545d",
   "metadata": {},
   "outputs": [],
   "source": [
    "from langchain_core.chat_history import InMemoryChatMessageHistory\n",
    "from langchain_core.runnables.history import RunnableWithMessageHistory\n",
    "from langchain_openai import ChatOpenAI\n",
    "from langchain_core.messages import HumanMessage\n",
    "from dotenv import load_dotenv\n",
    "import os\n",
    "\n",
    "load_dotenv()\n",
    "model = ChatOpenAI(model=\"gpt-4o-mini\", openai_api_key=os.getenv('OPENAI_API_KEY'))\n",
    "\n",
    "store={}"
   ]
  },
  {
   "cell_type": "code",
   "execution_count": 2,
   "id": "ea9e9c1d",
   "metadata": {},
   "outputs": [],
   "source": [
    "def get_session_history(session_id:str):\n",
    "    if session_id not in store:\n",
    "        store[session_id] = InMemoryChatMessageHistory()\n",
    "    return store[session_id]\n",
    "\n",
    "with_message_history = RunnableWithMessageHistory(model, get_session_history)"
   ]
  },
  {
   "cell_type": "code",
   "execution_count": 3,
   "id": "b87461d7",
   "metadata": {},
   "outputs": [
    {
     "name": "stdout",
     "output_type": "stream",
     "text": [
      "안녕하세요, 이성용님! 만나서 반갑습니다. 어떻게 도와드릴까요?\n"
     ]
    }
   ],
   "source": [
    "config = {\"configurable\": {\"session_id\": \"abc2\"}}\n",
    "\n",
    "response = with_message_history.invoke(\n",
    "    [HumanMessage(content=\"안녕? 난 이성용이야.\")],\n",
    "    config=config\n",
    ")\n",
    "\n",
    "print(response.content)"
   ]
  },
  {
   "cell_type": "code",
   "execution_count": 4,
   "id": "fea675db",
   "metadata": {},
   "outputs": [
    {
     "name": "stdout",
     "output_type": "stream",
     "text": [
      "당신의 이름은 이성용입니다! 다른 궁금한 점이나 필요한 정보가 있으면 언제든지 말씀해 주세요.\n"
     ]
    }
   ],
   "source": [
    "response = with_message_history.invoke(\n",
    "    [HumanMessage(content=\"내 이름이 뭐지?\")],\n",
    "    config=config\n",
    ")\n",
    "\n",
    "print(response.content)"
   ]
  },
  {
   "cell_type": "code",
   "execution_count": 5,
   "id": "103eab00",
   "metadata": {},
   "outputs": [
    {
     "data": {
      "text/plain": [
       "'죄송하지만, 당신의 이름을 알 수 있는 방법이 없습니다. 이름을 알려주시면 대화를 이어갈 수 있습니다!'"
      ]
     },
     "execution_count": 5,
     "metadata": {},
     "output_type": "execute_result"
    }
   ],
   "source": [
    "config = {\"configurable\": {\"session_id\": \"abc3\"}}\n",
    "\n",
    "response = with_message_history.invoke(\n",
    "    [HumanMessage(content=\"내 이름이 뭐지?\")],\n",
    "    config=config\n",
    ")\n",
    "\n",
    "response.content"
   ]
  },
  {
   "cell_type": "code",
   "execution_count": 7,
   "id": "3463b036",
   "metadata": {},
   "outputs": [
    {
     "data": {
      "text/plain": [
       "'우리는 당신의 이름이 이성용이라는 것에 대해 이야기했습니다. 또 다른 질문이나 궁금한 점이 있으면 말씀해 주세요!'"
      ]
     },
     "execution_count": 7,
     "metadata": {},
     "output_type": "execute_result"
    }
   ],
   "source": [
    "config = {\"configurable\": {\"session_id\": \"abc2\"}}\n",
    "\n",
    "response = with_message_history.invoke(\n",
    "    [HumanMessage(content=\"아까 우리가 무슨 얘기 했지?\")],\n",
    "    config=config\n",
    ")\n",
    "\n",
    "response.content"
   ]
  },
  {
   "cell_type": "code",
   "execution_count": 8,
   "id": "70da9877",
   "metadata": {},
   "outputs": [
    {
     "name": "stdout",
     "output_type": "stream",
     "text": [
      "|이|성|용|이라는| 이름|은| 한국|에서| 흔|히| 사용|되는| 이름|이|어서| 한국| 분|일| 가능|성이| 높|습니다|.| \n",
      "\n",
      "|한국| 문화|에| 대해| 간|단|히| 말씀|드|리|자|면|:\n",
      "\n",
      "|1|.| **|한|식|**|:| 한국|의| 전|통| 음식|은| 다양한| 반|찬|과| 함께| 제공|되는| 밥|이| 기본|입니다|.| 김|치|,| 비|빔|밥|,| 불|고|기| 등이| 특히| 유명|하|죠|.\n",
      "\n",
      "|2|.| **|명|절|**|:| 설|날|(|한국|의| 새|해|)|과| 추|석|(|가|을| 수|확| 축|제|)| 같은| 전|통| 명|절|이| 중요|하며|,| 가족|들이| 모|여|서| 차|례|를| 지|내|고| 특별|한| 음|식을| 나|누|는| 풍|습|이| 있습니다|.\n",
      "\n",
      "|3|.| **|한|자|와| 한|글|**|:| 한국|어|는| 한|글|이라는| 고|유|한| 문자| 체|계를| 가지고| 있으며|,| 조|선| 시대| 세|종|대|왕|에| 의해| 창|제|되었습니다|.\n",
      "\n",
      "|4|.| **|K|-|POP|과| 드|라마|**|:| 최근| 몇| 년|간| 한국|의| 대|중|문화|는| 전| 세계|적으로| 큰| 인|기를| 끌|고| 있으며|,| K|-|POP| 아이|돌|과| 한국| 드|라마|가| 많은| 사랑|을| 받고| 있습니다|.\n",
      "\n",
      "|당|신|이| 한국|이라|면| 이러한| 문화| 요소|들이| 익|숙|할| 것입니다|!| 다른| 나라|에| 대한| 정보|가| 필요|하시|다면| 말씀|해| 주세요|.||"
     ]
    }
   ],
   "source": [
    "config = {\"configurable\": {\"session_id\": \"abc2\"}}\n",
    "\n",
    "for r in with_message_history.stream(\n",
    "    [HumanMessage(content=\"내가 어느 나라 사람인지 맞춰보고, 그 나라의 문화에 대해 말해봐\")],\n",
    "    config=config\n",
    "):\n",
    "\n",
    "    print(r.content, end=\"|\")"
   ]
  }
 ],
 "metadata": {
  "kernelspec": {
   "display_name": "Python 3",
   "language": "python",
   "name": "python3"
  },
  "language_info": {
   "codemirror_mode": {
    "name": "ipython",
    "version": 3
   },
   "file_extension": ".py",
   "mimetype": "text/x-python",
   "name": "python",
   "nbconvert_exporter": "python",
   "pygments_lexer": "ipython3",
   "version": "3.13.3"
  }
 },
 "nbformat": 4,
 "nbformat_minor": 5
}
